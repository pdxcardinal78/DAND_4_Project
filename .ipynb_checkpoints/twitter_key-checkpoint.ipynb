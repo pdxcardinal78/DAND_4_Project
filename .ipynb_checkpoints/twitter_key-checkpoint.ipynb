{
 "cells": [
  {
   "cell_type": "code",
   "execution_count": null,
   "metadata": {},
   "outputs": [],
   "source": [
    "access_token = '26417459-dIqx07FpektjEw2E0d9iYgxHqKjAYh50FxJULrP7K'\n",
    "access_token_secret = 'ehMpdYOINznBJ5HVzK5hfdlTSBEdTD00bw2jqIg6P5Ctg'\n",
    "consumer_key = 'vYlvdO8znaHlLjdGtFE3VtsEl'\n",
    "consumer_secret = 'otXHVoVC74bl4Al40tdeImH73LKD4B99d1A3wuW5BeQC5FvQr6'"
   ]
  }
 ],
 "metadata": {
  "kernelspec": {
   "display_name": "Python 3",
   "language": "python",
   "name": "python3"
  },
  "language_info": {
   "codemirror_mode": {
    "name": "ipython",
    "version": 3
   },
   "file_extension": ".py",
   "mimetype": "text/x-python",
   "name": "python",
   "nbconvert_exporter": "python",
   "pygments_lexer": "ipython3",
   "version": "3.7.0"
  }
 },
 "nbformat": 4,
 "nbformat_minor": 2
}
